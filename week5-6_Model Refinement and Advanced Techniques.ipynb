{
 "cells": [
  {
   "cell_type": "code",
   "execution_count": 130,
   "metadata": {},
   "outputs": [],
   "source": [
    "import numpy as np\n",
    "import pandas as pd\n",
    "from sklearn.impute import SimpleImputer\n",
    "from sklearn.preprocessing import OrdinalEncoder\n",
    "from sklearn.preprocessing import OneHotEncoder\n",
    "from sklearn.model_selection import train_test_split\n",
    "from sklearn.model_selection import cross_val_score\n",
    "from sklearn.ensemble import RandomForestRegressor\n",
    "from xgboost import XGBRegressor\n",
    "from sklearn.metrics import mean_absolute_error\n",
    "from sklearn.pipeline import Pipeline\n",
    "from sklearn.compose import ColumnTransformer\n",
    "from sklearn.preprocessing import LabelEncoder\n",
    "from sklearn import preprocessing"
   ]
  },
  {
   "cell_type": "code",
   "execution_count": 131,
   "metadata": {},
   "outputs": [
    {
     "data": {
      "text/plain": [
       "(3047, 34)"
      ]
     },
     "execution_count": 131,
     "metadata": {},
     "output_type": "execute_result"
    }
   ],
   "source": [
    "# Load Data Frame\n",
    "df = pd.read_csv(\"data/cancer_reg.csv\")\n",
    "# make a copy of our data frame for later use\n",
    "df_copy = df.copy()\n",
    "# view dimensions of dataset\n",
    "df.shape"
   ]
  },
  {
   "cell_type": "code",
   "execution_count": 132,
   "metadata": {},
   "outputs": [
    {
     "data": {
      "text/html": [
       "<div>\n",
       "<style scoped>\n",
       "    .dataframe tbody tr th:only-of-type {\n",
       "        vertical-align: middle;\n",
       "    }\n",
       "\n",
       "    .dataframe tbody tr th {\n",
       "        vertical-align: top;\n",
       "    }\n",
       "\n",
       "    .dataframe thead th {\n",
       "        text-align: right;\n",
       "    }\n",
       "</style>\n",
       "<table border=\"1\" class=\"dataframe\">\n",
       "  <thead>\n",
       "    <tr style=\"text-align: right;\">\n",
       "      <th></th>\n",
       "      <th>index</th>\n",
       "      <th>avganncount</th>\n",
       "      <th>avgdeathsperyear</th>\n",
       "      <th>target_deathrate</th>\n",
       "      <th>incidencerate</th>\n",
       "      <th>medincome</th>\n",
       "      <th>popest2015</th>\n",
       "      <th>povertypercent</th>\n",
       "      <th>studypercap</th>\n",
       "      <th>binnedinc</th>\n",
       "      <th>...</th>\n",
       "      <th>pctprivatecoveragealone</th>\n",
       "      <th>pctempprivcoverage</th>\n",
       "      <th>pctpubliccoverage</th>\n",
       "      <th>pctpubliccoveragealone</th>\n",
       "      <th>pctwhite</th>\n",
       "      <th>pctblack</th>\n",
       "      <th>pctasian</th>\n",
       "      <th>pctotherrace</th>\n",
       "      <th>pctmarriedhouseholds</th>\n",
       "      <th>birthrate</th>\n",
       "    </tr>\n",
       "  </thead>\n",
       "  <tbody>\n",
       "    <tr>\n",
       "      <th>0</th>\n",
       "      <td>0</td>\n",
       "      <td>1397.0</td>\n",
       "      <td>469</td>\n",
       "      <td>164.9</td>\n",
       "      <td>489.8</td>\n",
       "      <td>61898</td>\n",
       "      <td>260131</td>\n",
       "      <td>11.2</td>\n",
       "      <td>499.748204</td>\n",
       "      <td>(61494.5, 125635]</td>\n",
       "      <td>...</td>\n",
       "      <td>NaN</td>\n",
       "      <td>41.6</td>\n",
       "      <td>32.9</td>\n",
       "      <td>14.0</td>\n",
       "      <td>81.780529</td>\n",
       "      <td>2.594728</td>\n",
       "      <td>4.821857</td>\n",
       "      <td>1.843479</td>\n",
       "      <td>52.856076</td>\n",
       "      <td>6.118831</td>\n",
       "    </tr>\n",
       "    <tr>\n",
       "      <th>1</th>\n",
       "      <td>1</td>\n",
       "      <td>173.0</td>\n",
       "      <td>70</td>\n",
       "      <td>161.3</td>\n",
       "      <td>411.6</td>\n",
       "      <td>48127</td>\n",
       "      <td>43269</td>\n",
       "      <td>18.6</td>\n",
       "      <td>23.111234</td>\n",
       "      <td>(48021.6, 51046.4]</td>\n",
       "      <td>...</td>\n",
       "      <td>53.8</td>\n",
       "      <td>43.6</td>\n",
       "      <td>31.1</td>\n",
       "      <td>15.3</td>\n",
       "      <td>89.228509</td>\n",
       "      <td>0.969102</td>\n",
       "      <td>2.246233</td>\n",
       "      <td>3.741352</td>\n",
       "      <td>45.372500</td>\n",
       "      <td>4.333096</td>\n",
       "    </tr>\n",
       "    <tr>\n",
       "      <th>2</th>\n",
       "      <td>2</td>\n",
       "      <td>102.0</td>\n",
       "      <td>50</td>\n",
       "      <td>174.7</td>\n",
       "      <td>349.7</td>\n",
       "      <td>49348</td>\n",
       "      <td>21026</td>\n",
       "      <td>14.6</td>\n",
       "      <td>47.560164</td>\n",
       "      <td>(48021.6, 51046.4]</td>\n",
       "      <td>...</td>\n",
       "      <td>43.5</td>\n",
       "      <td>34.9</td>\n",
       "      <td>42.1</td>\n",
       "      <td>21.1</td>\n",
       "      <td>90.922190</td>\n",
       "      <td>0.739673</td>\n",
       "      <td>0.465898</td>\n",
       "      <td>2.747358</td>\n",
       "      <td>54.444868</td>\n",
       "      <td>3.729488</td>\n",
       "    </tr>\n",
       "    <tr>\n",
       "      <th>3</th>\n",
       "      <td>3</td>\n",
       "      <td>427.0</td>\n",
       "      <td>202</td>\n",
       "      <td>194.8</td>\n",
       "      <td>430.4</td>\n",
       "      <td>44243</td>\n",
       "      <td>75882</td>\n",
       "      <td>17.1</td>\n",
       "      <td>342.637253</td>\n",
       "      <td>(42724.4, 45201]</td>\n",
       "      <td>...</td>\n",
       "      <td>40.3</td>\n",
       "      <td>35.0</td>\n",
       "      <td>45.3</td>\n",
       "      <td>25.0</td>\n",
       "      <td>91.744686</td>\n",
       "      <td>0.782626</td>\n",
       "      <td>1.161359</td>\n",
       "      <td>1.362643</td>\n",
       "      <td>51.021514</td>\n",
       "      <td>4.603841</td>\n",
       "    </tr>\n",
       "    <tr>\n",
       "      <th>4</th>\n",
       "      <td>4</td>\n",
       "      <td>57.0</td>\n",
       "      <td>26</td>\n",
       "      <td>144.4</td>\n",
       "      <td>350.1</td>\n",
       "      <td>49955</td>\n",
       "      <td>10321</td>\n",
       "      <td>12.5</td>\n",
       "      <td>0.000000</td>\n",
       "      <td>(48021.6, 51046.4]</td>\n",
       "      <td>...</td>\n",
       "      <td>43.9</td>\n",
       "      <td>35.1</td>\n",
       "      <td>44.0</td>\n",
       "      <td>22.7</td>\n",
       "      <td>94.104024</td>\n",
       "      <td>0.270192</td>\n",
       "      <td>0.665830</td>\n",
       "      <td>0.492135</td>\n",
       "      <td>54.027460</td>\n",
       "      <td>6.796657</td>\n",
       "    </tr>\n",
       "  </tbody>\n",
       "</table>\n",
       "<p>5 rows × 34 columns</p>\n",
       "</div>"
      ],
      "text/plain": [
       "   index  avganncount  avgdeathsperyear  target_deathrate  incidencerate  \\\n",
       "0      0       1397.0               469             164.9          489.8   \n",
       "1      1        173.0                70             161.3          411.6   \n",
       "2      2        102.0                50             174.7          349.7   \n",
       "3      3        427.0               202             194.8          430.4   \n",
       "4      4         57.0                26             144.4          350.1   \n",
       "\n",
       "   medincome  popest2015  povertypercent  studypercap           binnedinc  \\\n",
       "0      61898      260131            11.2   499.748204   (61494.5, 125635]   \n",
       "1      48127       43269            18.6    23.111234  (48021.6, 51046.4]   \n",
       "2      49348       21026            14.6    47.560164  (48021.6, 51046.4]   \n",
       "3      44243       75882            17.1   342.637253    (42724.4, 45201]   \n",
       "4      49955       10321            12.5     0.000000  (48021.6, 51046.4]   \n",
       "\n",
       "   ...  pctprivatecoveragealone  pctempprivcoverage  pctpubliccoverage  \\\n",
       "0  ...                      NaN                41.6               32.9   \n",
       "1  ...                     53.8                43.6               31.1   \n",
       "2  ...                     43.5                34.9               42.1   \n",
       "3  ...                     40.3                35.0               45.3   \n",
       "4  ...                     43.9                35.1               44.0   \n",
       "\n",
       "  pctpubliccoveragealone   pctwhite  pctblack  pctasian  pctotherrace  \\\n",
       "0                   14.0  81.780529  2.594728  4.821857      1.843479   \n",
       "1                   15.3  89.228509  0.969102  2.246233      3.741352   \n",
       "2                   21.1  90.922190  0.739673  0.465898      2.747358   \n",
       "3                   25.0  91.744686  0.782626  1.161359      1.362643   \n",
       "4                   22.7  94.104024  0.270192  0.665830      0.492135   \n",
       "\n",
       "   pctmarriedhouseholds  birthrate  \n",
       "0             52.856076   6.118831  \n",
       "1             45.372500   4.333096  \n",
       "2             54.444868   3.729488  \n",
       "3             51.021514   4.603841  \n",
       "4             54.027460   6.796657  \n",
       "\n",
       "[5 rows x 34 columns]"
      ]
     },
     "execution_count": 132,
     "metadata": {},
     "output_type": "execute_result"
    }
   ],
   "source": [
    "# preview the dataset\n",
    "df.head()"
   ]
  },
  {
   "cell_type": "code",
   "execution_count": 133,
   "metadata": {},
   "outputs": [
    {
     "name": "stdout",
     "output_type": "stream",
     "text": [
      "<class 'pandas.core.frame.DataFrame'>\n",
      "RangeIndex: 3047 entries, 0 to 3046\n",
      "Data columns (total 34 columns):\n",
      " #   Column                   Non-Null Count  Dtype  \n",
      "---  ------                   --------------  -----  \n",
      " 0   index                    3047 non-null   int64  \n",
      " 1   avganncount              3047 non-null   float64\n",
      " 2   avgdeathsperyear         3047 non-null   int64  \n",
      " 3   target_deathrate         3047 non-null   float64\n",
      " 4   incidencerate            3047 non-null   float64\n",
      " 5   medincome                3047 non-null   int64  \n",
      " 6   popest2015               3047 non-null   int64  \n",
      " 7   povertypercent           3047 non-null   float64\n",
      " 8   studypercap              3047 non-null   float64\n",
      " 9   binnedinc                3047 non-null   object \n",
      " 10  medianage                3047 non-null   float64\n",
      " 11  medianagemale            3047 non-null   float64\n",
      " 12  medianagefemale          3047 non-null   float64\n",
      " 13  geography                3047 non-null   object \n",
      " 14  percentmarried           3047 non-null   float64\n",
      " 15  pctnohs18_24             3047 non-null   float64\n",
      " 16  pcths18_24               3047 non-null   float64\n",
      " 17  pctsomecol18_24          762 non-null    float64\n",
      " 18  pctbachdeg18_24          3047 non-null   float64\n",
      " 19  pcths25_over             3047 non-null   float64\n",
      " 20  pctbachdeg25_over        3047 non-null   float64\n",
      " 21  pctemployed16_over       2895 non-null   float64\n",
      " 22  pctunemployed16_over     3047 non-null   float64\n",
      " 23  pctprivatecoverage       3047 non-null   float64\n",
      " 24  pctprivatecoveragealone  2438 non-null   float64\n",
      " 25  pctempprivcoverage       3047 non-null   float64\n",
      " 26  pctpubliccoverage        3047 non-null   float64\n",
      " 27  pctpubliccoveragealone   3047 non-null   float64\n",
      " 28  pctwhite                 3047 non-null   float64\n",
      " 29  pctblack                 3047 non-null   float64\n",
      " 30  pctasian                 3047 non-null   float64\n",
      " 31  pctotherrace             3047 non-null   float64\n",
      " 32  pctmarriedhouseholds     3047 non-null   float64\n",
      " 33  birthrate                3047 non-null   float64\n",
      "dtypes: float64(28), int64(4), object(2)\n",
      "memory usage: 809.5+ KB\n"
     ]
    }
   ],
   "source": [
    "df.info()"
   ]
  },
  {
   "cell_type": "code",
   "execution_count": 134,
   "metadata": {},
   "outputs": [
    {
     "name": "stdout",
     "output_type": "stream",
     "text": [
      "Total number of missing entries:  3046\n",
      "Total number of columns that have missing values:  3\n",
      "These columns are:\n",
      "pctsomecol18_24            2285\n",
      "pctemployed16_over          152\n",
      "pctprivatecoveragealone     609\n",
      "dtype: int64\n"
     ]
    }
   ],
   "source": [
    "mis_val_count = df.isnull().sum()\n",
    "mis_val_len  = len(mis_val_count[mis_val_count> 0])\n",
    "print(\"Total number of missing entries: \", mis_val_count.sum())\n",
    "print(\"Total number of columns that have missing values: \", mis_val_len)\n",
    "print(\"These columns are:\")\n",
    "print(mis_val_count[mis_val_count > 0])"
   ]
  },
  {
   "cell_type": "code",
   "execution_count": 135,
   "metadata": {},
   "outputs": [],
   "source": [
    "df.drop([\"pctsomecol18_24\", \"index\"], axis=1, inplace=True)"
   ]
  },
  {
   "cell_type": "code",
   "execution_count": 136,
   "metadata": {},
   "outputs": [
    {
     "data": {
      "text/plain": [
       "['pctemployed16_over', 'pctprivatecoveragealone']"
      ]
     },
     "execution_count": 136,
     "metadata": {},
     "output_type": "execute_result"
    }
   ],
   "source": [
    "mis_val_count = df.isnull().sum()\n",
    "mis_val_after_drop = mis_val_count[mis_val_count > 0]\n",
    "mising_val_col_list = [i for i in mis_val_after_drop.index]\n",
    "mising_val_col_list"
   ]
  },
  {
   "cell_type": "code",
   "execution_count": 137,
   "metadata": {},
   "outputs": [],
   "source": [
    "# Imputation\n",
    "my_imputer = SimpleImputer(strategy=\"mean\")\n",
    "df[mising_val_col_list] = pd.DataFrame(my_imputer.fit_transform(df[mising_val_col_list]))"
   ]
  },
  {
   "cell_type": "code",
   "execution_count": 138,
   "metadata": {},
   "outputs": [
    {
     "data": {
      "text/plain": [
       "Series([], dtype: int64)"
      ]
     },
     "execution_count": 138,
     "metadata": {},
     "output_type": "execute_result"
    }
   ],
   "source": [
    "# so let's check if there is any missing values\n",
    "mis_val_count = df.isnull().sum()\n",
    "mis_val_after_imput = mis_val_count[mis_val_count > 0]\n",
    "mis_val_after_imput"
   ]
  },
  {
   "cell_type": "code",
   "execution_count": 139,
   "metadata": {},
   "outputs": [
    {
     "name": "stdout",
     "output_type": "stream",
     "text": [
      "Object columns:  ['binnedinc', 'geography']\n"
     ]
    }
   ],
   "source": [
    "# select object columns\n",
    "object_col = [col for col in df.columns if df[col].dtype == 'object']\n",
    "print(\"Object columns: \", object_col)"
   ]
  },
  {
   "cell_type": "code",
   "execution_count": 140,
   "metadata": {},
   "outputs": [
    {
     "name": "stdout",
     "output_type": "stream",
     "text": [
      "Unique values in 'geography' column: \n",
      " ['Kitsap County, Washington' 'Kittitas County, Washington'\n",
      " 'Klickitat County, Washington' ... 'Ford County, Kansas'\n",
      " 'Franklin County, Kansas' 'Geary County, Kansas']\n",
      "Number of the unique values is:  3047\n",
      "----------------------------------------------------------------------------------------------------------------------------------------------------------------------------------------------------------------------------------------------------------------------------------------\n",
      "Unique values in 'binnedinc' column: \n",
      " ['(61494.5, 125635]' '(48021.6, 51046.4]' '(42724.4, 45201]'\n",
      " '(51046.4, 54545.6]' '(37413.8, 40362.7]' '(40362.7, 42724.4]'\n",
      " '(54545.6, 61494.5]' '(34218.1, 37413.8]' '[22640, 34218.1]'\n",
      " '(45201, 48021.6]']\n",
      "Number of the unique values is:  10\n"
     ]
    }
   ],
   "source": [
    "print(\"Unique values in 'geography' column: \\n\", df['geography'].unique())\n",
    "print(\"Number of the unique values is: \", df['geography'].nunique())\n",
    "\n",
    "print('-'*280)\n",
    "\n",
    "print(\"Unique values in 'binnedinc' column: \\n\", df['binnedinc'].unique())\n",
    "print(\"Number of the unique values is: \", df['binnedinc'].nunique())"
   ]
  },
  {
   "cell_type": "code",
   "execution_count": 141,
   "metadata": {},
   "outputs": [
    {
     "name": "stdout",
     "output_type": "stream",
     "text": [
      "Columns for Ordinal Encoding are:  ['geography']\n"
     ]
    }
   ],
   "source": [
    "# Select Columns for Ordinal Encoding\n",
    "col_for_ord_enc = [col for col in object_col if df[col].nunique() > 10]\n",
    "print(\"Columns for Ordinal Encoding are: \", col_for_ord_enc)"
   ]
  },
  {
   "cell_type": "code",
   "execution_count": 142,
   "metadata": {},
   "outputs": [],
   "source": [
    "# Apply ordinal encoder\n",
    "ordinal_encoder = OrdinalEncoder()\n",
    "df[col_for_ord_enc] = ordinal_encoder.fit_transform(df[col_for_ord_enc])"
   ]
  },
  {
   "cell_type": "code",
   "execution_count": 143,
   "metadata": {},
   "outputs": [
    {
     "name": "stdout",
     "output_type": "stream",
     "text": [
      "Columns for One Hot Encoding are:  ['binnedinc']\n"
     ]
    }
   ],
   "source": [
    "# Select Columns for One Hot Encoding\n",
    "col_for_onehot_enc = [col for col in object_col if df[col].nunique() <= 10]\n",
    "print(\"Columns for One Hot Encoding are: \", col_for_onehot_enc)"
   ]
  },
  {
   "cell_type": "code",
   "execution_count": 144,
   "metadata": {},
   "outputs": [
    {
     "name": "stderr",
     "output_type": "stream",
     "text": [
      "/share/pkg.8/python3/3.10.12/install/lib/python3.10/site-packages/sklearn/preprocessing/_encoders.py:972: FutureWarning: `sparse` was renamed to `sparse_output` in version 1.2 and will be removed in 1.4. `sparse_output` is ignored unless you leave `sparse` to its default value.\n",
      "  warnings.warn(\n"
     ]
    }
   ],
   "source": [
    "# Apply one-hot encoder\n",
    "OH_encoder = OneHotEncoder(sparse=False, handle_unknown=\"ignore\")\n",
    "OH_cols = pd.DataFrame(OH_encoder.fit_transform(df[col_for_onehot_enc]))\n",
    "\n",
    "# One-hot encoding removed index; put it back\n",
    "OH_cols.index = df.index\n",
    "\n",
    "# Remove categorical columns (will replace with one-hot encoding)\n",
    "df.drop(col_for_onehot_enc, axis=1, inplace=True)\n",
    "\n",
    "# Add one-hot encoded columns to our data frame\n",
    "df = pd.concat([df, OH_cols], axis=1)"
   ]
  },
  {
   "cell_type": "code",
   "execution_count": 145,
   "metadata": {},
   "outputs": [
    {
     "data": {
      "text/html": [
       "<div>\n",
       "<style scoped>\n",
       "    .dataframe tbody tr th:only-of-type {\n",
       "        vertical-align: middle;\n",
       "    }\n",
       "\n",
       "    .dataframe tbody tr th {\n",
       "        vertical-align: top;\n",
       "    }\n",
       "\n",
       "    .dataframe thead th {\n",
       "        text-align: right;\n",
       "    }\n",
       "</style>\n",
       "<table border=\"1\" class=\"dataframe\">\n",
       "  <thead>\n",
       "    <tr style=\"text-align: right;\">\n",
       "      <th></th>\n",
       "      <th>avganncount</th>\n",
       "      <th>avgdeathsperyear</th>\n",
       "      <th>target_deathrate</th>\n",
       "      <th>incidencerate</th>\n",
       "      <th>medincome</th>\n",
       "      <th>popest2015</th>\n",
       "      <th>povertypercent</th>\n",
       "      <th>studypercap</th>\n",
       "      <th>medianage</th>\n",
       "      <th>medianagemale</th>\n",
       "      <th>...</th>\n",
       "      <th>0</th>\n",
       "      <th>1</th>\n",
       "      <th>2</th>\n",
       "      <th>3</th>\n",
       "      <th>4</th>\n",
       "      <th>5</th>\n",
       "      <th>6</th>\n",
       "      <th>7</th>\n",
       "      <th>8</th>\n",
       "      <th>9</th>\n",
       "    </tr>\n",
       "  </thead>\n",
       "  <tbody>\n",
       "    <tr>\n",
       "      <th>0</th>\n",
       "      <td>1397.0</td>\n",
       "      <td>469</td>\n",
       "      <td>164.9</td>\n",
       "      <td>489.8</td>\n",
       "      <td>61898</td>\n",
       "      <td>260131</td>\n",
       "      <td>11.2</td>\n",
       "      <td>499.748204</td>\n",
       "      <td>39.3</td>\n",
       "      <td>36.9</td>\n",
       "      <td>...</td>\n",
       "      <td>0.0</td>\n",
       "      <td>0.0</td>\n",
       "      <td>0.0</td>\n",
       "      <td>0.0</td>\n",
       "      <td>0.0</td>\n",
       "      <td>0.0</td>\n",
       "      <td>0.0</td>\n",
       "      <td>0.0</td>\n",
       "      <td>1.0</td>\n",
       "      <td>0.0</td>\n",
       "    </tr>\n",
       "    <tr>\n",
       "      <th>1</th>\n",
       "      <td>173.0</td>\n",
       "      <td>70</td>\n",
       "      <td>161.3</td>\n",
       "      <td>411.6</td>\n",
       "      <td>48127</td>\n",
       "      <td>43269</td>\n",
       "      <td>18.6</td>\n",
       "      <td>23.111234</td>\n",
       "      <td>33.0</td>\n",
       "      <td>32.2</td>\n",
       "      <td>...</td>\n",
       "      <td>0.0</td>\n",
       "      <td>0.0</td>\n",
       "      <td>0.0</td>\n",
       "      <td>0.0</td>\n",
       "      <td>0.0</td>\n",
       "      <td>1.0</td>\n",
       "      <td>0.0</td>\n",
       "      <td>0.0</td>\n",
       "      <td>0.0</td>\n",
       "      <td>0.0</td>\n",
       "    </tr>\n",
       "    <tr>\n",
       "      <th>2</th>\n",
       "      <td>102.0</td>\n",
       "      <td>50</td>\n",
       "      <td>174.7</td>\n",
       "      <td>349.7</td>\n",
       "      <td>49348</td>\n",
       "      <td>21026</td>\n",
       "      <td>14.6</td>\n",
       "      <td>47.560164</td>\n",
       "      <td>45.0</td>\n",
       "      <td>44.0</td>\n",
       "      <td>...</td>\n",
       "      <td>0.0</td>\n",
       "      <td>0.0</td>\n",
       "      <td>0.0</td>\n",
       "      <td>0.0</td>\n",
       "      <td>0.0</td>\n",
       "      <td>1.0</td>\n",
       "      <td>0.0</td>\n",
       "      <td>0.0</td>\n",
       "      <td>0.0</td>\n",
       "      <td>0.0</td>\n",
       "    </tr>\n",
       "    <tr>\n",
       "      <th>3</th>\n",
       "      <td>427.0</td>\n",
       "      <td>202</td>\n",
       "      <td>194.8</td>\n",
       "      <td>430.4</td>\n",
       "      <td>44243</td>\n",
       "      <td>75882</td>\n",
       "      <td>17.1</td>\n",
       "      <td>342.637253</td>\n",
       "      <td>42.8</td>\n",
       "      <td>42.2</td>\n",
       "      <td>...</td>\n",
       "      <td>0.0</td>\n",
       "      <td>0.0</td>\n",
       "      <td>0.0</td>\n",
       "      <td>1.0</td>\n",
       "      <td>0.0</td>\n",
       "      <td>0.0</td>\n",
       "      <td>0.0</td>\n",
       "      <td>0.0</td>\n",
       "      <td>0.0</td>\n",
       "      <td>0.0</td>\n",
       "    </tr>\n",
       "    <tr>\n",
       "      <th>4</th>\n",
       "      <td>57.0</td>\n",
       "      <td>26</td>\n",
       "      <td>144.4</td>\n",
       "      <td>350.1</td>\n",
       "      <td>49955</td>\n",
       "      <td>10321</td>\n",
       "      <td>12.5</td>\n",
       "      <td>0.000000</td>\n",
       "      <td>48.3</td>\n",
       "      <td>47.8</td>\n",
       "      <td>...</td>\n",
       "      <td>0.0</td>\n",
       "      <td>0.0</td>\n",
       "      <td>0.0</td>\n",
       "      <td>0.0</td>\n",
       "      <td>0.0</td>\n",
       "      <td>1.0</td>\n",
       "      <td>0.0</td>\n",
       "      <td>0.0</td>\n",
       "      <td>0.0</td>\n",
       "      <td>0.0</td>\n",
       "    </tr>\n",
       "  </tbody>\n",
       "</table>\n",
       "<p>5 rows × 41 columns</p>\n",
       "</div>"
      ],
      "text/plain": [
       "   avganncount  avgdeathsperyear  target_deathrate  incidencerate  medincome  \\\n",
       "0       1397.0               469             164.9          489.8      61898   \n",
       "1        173.0                70             161.3          411.6      48127   \n",
       "2        102.0                50             174.7          349.7      49348   \n",
       "3        427.0               202             194.8          430.4      44243   \n",
       "4         57.0                26             144.4          350.1      49955   \n",
       "\n",
       "   popest2015  povertypercent  studypercap  medianage  medianagemale  ...  \\\n",
       "0      260131            11.2   499.748204       39.3           36.9  ...   \n",
       "1       43269            18.6    23.111234       33.0           32.2  ...   \n",
       "2       21026            14.6    47.560164       45.0           44.0  ...   \n",
       "3       75882            17.1   342.637253       42.8           42.2  ...   \n",
       "4       10321            12.5     0.000000       48.3           47.8  ...   \n",
       "\n",
       "     0    1    2    3    4    5    6    7    8    9  \n",
       "0  0.0  0.0  0.0  0.0  0.0  0.0  0.0  0.0  1.0  0.0  \n",
       "1  0.0  0.0  0.0  0.0  0.0  1.0  0.0  0.0  0.0  0.0  \n",
       "2  0.0  0.0  0.0  0.0  0.0  1.0  0.0  0.0  0.0  0.0  \n",
       "3  0.0  0.0  0.0  1.0  0.0  0.0  0.0  0.0  0.0  0.0  \n",
       "4  0.0  0.0  0.0  0.0  0.0  1.0  0.0  0.0  0.0  0.0  \n",
       "\n",
       "[5 rows x 41 columns]"
      ]
     },
     "execution_count": 145,
     "metadata": {},
     "output_type": "execute_result"
    }
   ],
   "source": [
    "# Preview df\n",
    "df.head()"
   ]
  },
  {
   "cell_type": "code",
   "execution_count": 146,
   "metadata": {},
   "outputs": [
    {
     "name": "stdout",
     "output_type": "stream",
     "text": [
      "Data Frame Shape After Encoding Is:  (3047, 41)\n"
     ]
    }
   ],
   "source": [
    "print(\"Data Frame Shape After Encoding Is: \", df.shape)"
   ]
  },
  {
   "cell_type": "code",
   "execution_count": 147,
   "metadata": {},
   "outputs": [],
   "source": [
    "# Declare feature vector and target variable\n",
    "X = df.drop(columns = ['target_deathrate'])\n",
    "y = df.target_deathrate\n",
    "\n",
    "# Split data into separate training and test set\n",
    "X_train, X_test, y_train, y_test = train_test_split(X,\n",
    "                                                    y,\n",
    "                                                    test_size=0.2,\n",
    "                                                    random_state=0)"
   ]
  },
  {
   "cell_type": "code",
   "execution_count": 148,
   "metadata": {},
   "outputs": [],
   "source": [
    "# Declare feature vector and target variable\n",
    "X = df_copy.drop(['target_deathrate'], axis=1)\n",
    "y = df_copy['target_deathrate']\n",
    "\n",
    "# Split data into separate training and test set\n",
    "X_train, X_test, y_train, y_test = train_test_split(X,\n",
    "                                                    y,\n",
    "                                                    test_size=0.2,\n",
    "                                                    random_state=0)"
   ]
  },
  {
   "cell_type": "code",
   "execution_count": 149,
   "metadata": {},
   "outputs": [
    {
     "name": "stdout",
     "output_type": "stream",
     "text": [
      "Numerical columns list:\n",
      " ['avganncount', 'avgdeathsperyear', 'incidencerate', 'medincome', 'popest2015', 'povertypercent', 'studypercap', 'medianage', 'medianagemale', 'medianagefemale', 'percentmarried', 'pctnohs18_24', 'pcths18_24', 'pctbachdeg18_24', 'pcths25_over', 'pctbachdeg25_over', 'pctemployed16_over', 'pctunemployed16_over', 'pctprivatecoverage', 'pctprivatecoveragealone', 'pctempprivcoverage', 'pctpubliccoverage', 'pctpubliccoveragealone', 'pctwhite', 'pctblack', 'pctasian', 'pctotherrace', 'pctmarriedhouseholds', 'birthrate']\n",
      "----------------------------------------------------------------------------------------------------\n",
      "Ordinal Encoding Columns list:\n",
      " ['geography']\n",
      "----------------------------------------------------------------------------------------------------\n",
      "One Hot Encoding Columns list:\n",
      " ['binnedinc']\n"
     ]
    }
   ],
   "source": [
    "# select columns to drop\n",
    "drop_cols_list = ['index','pctsomecol18_24']\n",
    "# Select numerical columns\n",
    "numerical_cols = [cname for cname in  X_train.columns if X_train[cname].dtype in ['int64', 'float64'] and cname != drop_cols_list[0] and cname != drop_cols_list[1]]\n",
    "# select object columns\n",
    "object_col = [col for col in  X_train.columns if  X_train[col].dtype == 'object' and col != drop_cols_list[0] and col != drop_cols_list[1]]\n",
    "# Select Columns for Ordinal Encoding\n",
    "col_for_ord_enc = [col for col in object_col if  X_train[col].nunique() > 10]\n",
    "# Select Columns for One Hot Encoding\n",
    "col_for_onehot_enc = [col for col in object_col if  X_train[col].nunique() <= 10]\n",
    "cat_geo_lvl = [val for val in df_copy[col_for_ord_enc].value_counts().index]\n",
    "print(\"Numerical columns list:\\n\",numerical_cols)\n",
    "print('-'*100)\n",
    "print(\"Ordinal Encoding Columns list:\\n\",col_for_ord_enc)\n",
    "print('-'*100)\n",
    "print(\"One Hot Encoding Columns list:\\n\",col_for_onehot_enc)"
   ]
  },
  {
   "cell_type": "code",
   "execution_count": 150,
   "metadata": {},
   "outputs": [
    {
     "data": {
      "text/plain": [
       "array([1397.])"
      ]
     },
     "execution_count": 150,
     "metadata": {},
     "output_type": "execute_result"
    }
   ],
   "source": [
    "df_copy['avganncount'].head(1).values"
   ]
  },
  {
   "cell_type": "code",
   "execution_count": 151,
   "metadata": {},
   "outputs": [
    {
     "data": {
      "text/plain": [
       "array([['Kitsap County, Washington']], dtype=object)"
      ]
     },
     "execution_count": 151,
     "metadata": {},
     "output_type": "execute_result"
    }
   ],
   "source": [
    "df_copy[col_for_ord_enc].head(1).values"
   ]
  },
  {
   "cell_type": "code",
   "execution_count": 152,
   "metadata": {},
   "outputs": [
    {
     "data": {
      "text/plain": [
       "array([['(61494.5, 125635]']], dtype=object)"
      ]
     },
     "execution_count": 152,
     "metadata": {},
     "output_type": "execute_result"
    }
   ],
   "source": [
    "df_copy[col_for_onehot_enc].head(1).values"
   ]
  },
  {
   "cell_type": "code",
   "execution_count": 153,
   "metadata": {},
   "outputs": [],
   "source": [
    "model = RandomForestRegressor(random_state=0)"
   ]
  },
  {
   "cell_type": "code",
   "execution_count": 154,
   "metadata": {},
   "outputs": [],
   "source": [
    "from sklearn.base import BaseEstimator\n",
    "from sklearn.base import TransformerMixin\n",
    "class CustomOrdinalEncoder(BaseEstimator, TransformerMixin):\n",
    "    def fit(self, X, y=None):\n",
    "        return self\n",
    "    def transform(self, X):\n",
    "        return OrdinalEncoder().fit_transform(X);"
   ]
  },
  {
   "cell_type": "code",
   "execution_count": 155,
   "metadata": {},
   "outputs": [
    {
     "data": {
      "text/html": [
       "<style>#sk-container-id-2 {color: black;}#sk-container-id-2 pre{padding: 0;}#sk-container-id-2 div.sk-toggleable {background-color: white;}#sk-container-id-2 label.sk-toggleable__label {cursor: pointer;display: block;width: 100%;margin-bottom: 0;padding: 0.3em;box-sizing: border-box;text-align: center;}#sk-container-id-2 label.sk-toggleable__label-arrow:before {content: \"▸\";float: left;margin-right: 0.25em;color: #696969;}#sk-container-id-2 label.sk-toggleable__label-arrow:hover:before {color: black;}#sk-container-id-2 div.sk-estimator:hover label.sk-toggleable__label-arrow:before {color: black;}#sk-container-id-2 div.sk-toggleable__content {max-height: 0;max-width: 0;overflow: hidden;text-align: left;background-color: #f0f8ff;}#sk-container-id-2 div.sk-toggleable__content pre {margin: 0.2em;color: black;border-radius: 0.25em;background-color: #f0f8ff;}#sk-container-id-2 input.sk-toggleable__control:checked~div.sk-toggleable__content {max-height: 200px;max-width: 100%;overflow: auto;}#sk-container-id-2 input.sk-toggleable__control:checked~label.sk-toggleable__label-arrow:before {content: \"▾\";}#sk-container-id-2 div.sk-estimator input.sk-toggleable__control:checked~label.sk-toggleable__label {background-color: #d4ebff;}#sk-container-id-2 div.sk-label input.sk-toggleable__control:checked~label.sk-toggleable__label {background-color: #d4ebff;}#sk-container-id-2 input.sk-hidden--visually {border: 0;clip: rect(1px 1px 1px 1px);clip: rect(1px, 1px, 1px, 1px);height: 1px;margin: -1px;overflow: hidden;padding: 0;position: absolute;width: 1px;}#sk-container-id-2 div.sk-estimator {font-family: monospace;background-color: #f0f8ff;border: 1px dotted black;border-radius: 0.25em;box-sizing: border-box;margin-bottom: 0.5em;}#sk-container-id-2 div.sk-estimator:hover {background-color: #d4ebff;}#sk-container-id-2 div.sk-parallel-item::after {content: \"\";width: 100%;border-bottom: 1px solid gray;flex-grow: 1;}#sk-container-id-2 div.sk-label:hover label.sk-toggleable__label {background-color: #d4ebff;}#sk-container-id-2 div.sk-serial::before {content: \"\";position: absolute;border-left: 1px solid gray;box-sizing: border-box;top: 0;bottom: 0;left: 50%;z-index: 0;}#sk-container-id-2 div.sk-serial {display: flex;flex-direction: column;align-items: center;background-color: white;padding-right: 0.2em;padding-left: 0.2em;position: relative;}#sk-container-id-2 div.sk-item {position: relative;z-index: 1;}#sk-container-id-2 div.sk-parallel {display: flex;align-items: stretch;justify-content: center;background-color: white;position: relative;}#sk-container-id-2 div.sk-item::before, #sk-container-id-2 div.sk-parallel-item::before {content: \"\";position: absolute;border-left: 1px solid gray;box-sizing: border-box;top: 0;bottom: 0;left: 50%;z-index: -1;}#sk-container-id-2 div.sk-parallel-item {display: flex;flex-direction: column;z-index: 1;position: relative;background-color: white;}#sk-container-id-2 div.sk-parallel-item:first-child::after {align-self: flex-end;width: 50%;}#sk-container-id-2 div.sk-parallel-item:last-child::after {align-self: flex-start;width: 50%;}#sk-container-id-2 div.sk-parallel-item:only-child::after {width: 0;}#sk-container-id-2 div.sk-dashed-wrapped {border: 1px dashed gray;margin: 0 0.4em 0.5em 0.4em;box-sizing: border-box;padding-bottom: 0.4em;background-color: white;}#sk-container-id-2 div.sk-label label {font-family: monospace;font-weight: bold;display: inline-block;line-height: 1.2em;}#sk-container-id-2 div.sk-label-container {text-align: center;}#sk-container-id-2 div.sk-container {/* jupyter's `normalize.less` sets `[hidden] { display: none; }` but bootstrap.min.css set `[hidden] { display: none !important; }` so we also need the `!important` here to be able to override the default hidden behavior on the sphinx rendered scikit-learn.org. See: https://github.com/scikit-learn/scikit-learn/issues/21755 */display: inline-block !important;position: relative;}#sk-container-id-2 div.sk-text-repr-fallback {display: none;}</style><div id=\"sk-container-id-2\" class=\"sk-top-container\"><div class=\"sk-text-repr-fallback\"><pre>Pipeline(steps=[(&#x27;preprocessor&#x27;,\n",
       "                 ColumnTransformer(transformers=[(&#x27;drop&#x27;,\n",
       "                                                  Pipeline(steps=[(&#x27;ColumnDropper&#x27;,\n",
       "                                                                   &lt;__main__.ColumnDropperTransformer object at 0x14f8731207c0&gt;)]),\n",
       "                                                  [&#x27;index&#x27;, &#x27;pctsomecol18_24&#x27;]),\n",
       "                                                 (&#x27;num&#x27;, SimpleImputer(),\n",
       "                                                  [&#x27;avganncount&#x27;,\n",
       "                                                   &#x27;avgdeathsperyear&#x27;,\n",
       "                                                   &#x27;incidencerate&#x27;, &#x27;medincome&#x27;,\n",
       "                                                   &#x27;popest2015&#x27;,\n",
       "                                                   &#x27;povertypercent&#x27;,\n",
       "                                                   &#x27;studypercap&#x27;, &#x27;medianage&#x27;,\n",
       "                                                   &#x27;medianagemale...\n",
       "                                                   &#x27;birthrate&#x27;]),\n",
       "                                                 (&#x27;ord_cat&#x27;,\n",
       "                                                  Pipeline(steps=[(&#x27;imputer&#x27;,\n",
       "                                                                   SimpleImputer(strategy=&#x27;most_frequent&#x27;)),\n",
       "                                                                  (&#x27;ordinal&#x27;,\n",
       "                                                                   CustomOrdinalEncoder())]),\n",
       "                                                  [&#x27;geography&#x27;]),\n",
       "                                                 (&#x27;oh_cat&#x27;,\n",
       "                                                  Pipeline(steps=[(&#x27;imputer&#x27;,\n",
       "                                                                   SimpleImputer(strategy=&#x27;most_frequent&#x27;)),\n",
       "                                                                  (&#x27;onehot&#x27;,\n",
       "                                                                   OneHotEncoder(handle_unknown=&#x27;ignore&#x27;,\n",
       "                                                                                 sparse=False))]),\n",
       "                                                  [&#x27;binnedinc&#x27;])])),\n",
       "                (&#x27;model&#x27;, RandomForestRegressor(random_state=0))])</pre><b>In a Jupyter environment, please rerun this cell to show the HTML representation or trust the notebook. <br />On GitHub, the HTML representation is unable to render, please try loading this page with nbviewer.org.</b></div><div class=\"sk-container\" hidden><div class=\"sk-item sk-dashed-wrapped\"><div class=\"sk-label-container\"><div class=\"sk-label sk-toggleable\"><input class=\"sk-toggleable__control sk-hidden--visually\" id=\"sk-estimator-id-14\" type=\"checkbox\" ><label for=\"sk-estimator-id-14\" class=\"sk-toggleable__label sk-toggleable__label-arrow\">Pipeline</label><div class=\"sk-toggleable__content\"><pre>Pipeline(steps=[(&#x27;preprocessor&#x27;,\n",
       "                 ColumnTransformer(transformers=[(&#x27;drop&#x27;,\n",
       "                                                  Pipeline(steps=[(&#x27;ColumnDropper&#x27;,\n",
       "                                                                   &lt;__main__.ColumnDropperTransformer object at 0x14f8731207c0&gt;)]),\n",
       "                                                  [&#x27;index&#x27;, &#x27;pctsomecol18_24&#x27;]),\n",
       "                                                 (&#x27;num&#x27;, SimpleImputer(),\n",
       "                                                  [&#x27;avganncount&#x27;,\n",
       "                                                   &#x27;avgdeathsperyear&#x27;,\n",
       "                                                   &#x27;incidencerate&#x27;, &#x27;medincome&#x27;,\n",
       "                                                   &#x27;popest2015&#x27;,\n",
       "                                                   &#x27;povertypercent&#x27;,\n",
       "                                                   &#x27;studypercap&#x27;, &#x27;medianage&#x27;,\n",
       "                                                   &#x27;medianagemale...\n",
       "                                                   &#x27;birthrate&#x27;]),\n",
       "                                                 (&#x27;ord_cat&#x27;,\n",
       "                                                  Pipeline(steps=[(&#x27;imputer&#x27;,\n",
       "                                                                   SimpleImputer(strategy=&#x27;most_frequent&#x27;)),\n",
       "                                                                  (&#x27;ordinal&#x27;,\n",
       "                                                                   CustomOrdinalEncoder())]),\n",
       "                                                  [&#x27;geography&#x27;]),\n",
       "                                                 (&#x27;oh_cat&#x27;,\n",
       "                                                  Pipeline(steps=[(&#x27;imputer&#x27;,\n",
       "                                                                   SimpleImputer(strategy=&#x27;most_frequent&#x27;)),\n",
       "                                                                  (&#x27;onehot&#x27;,\n",
       "                                                                   OneHotEncoder(handle_unknown=&#x27;ignore&#x27;,\n",
       "                                                                                 sparse=False))]),\n",
       "                                                  [&#x27;binnedinc&#x27;])])),\n",
       "                (&#x27;model&#x27;, RandomForestRegressor(random_state=0))])</pre></div></div></div><div class=\"sk-serial\"><div class=\"sk-item sk-dashed-wrapped\"><div class=\"sk-label-container\"><div class=\"sk-label sk-toggleable\"><input class=\"sk-toggleable__control sk-hidden--visually\" id=\"sk-estimator-id-15\" type=\"checkbox\" ><label for=\"sk-estimator-id-15\" class=\"sk-toggleable__label sk-toggleable__label-arrow\">preprocessor: ColumnTransformer</label><div class=\"sk-toggleable__content\"><pre>ColumnTransformer(transformers=[(&#x27;drop&#x27;,\n",
       "                                 Pipeline(steps=[(&#x27;ColumnDropper&#x27;,\n",
       "                                                  &lt;__main__.ColumnDropperTransformer object at 0x14f8731207c0&gt;)]),\n",
       "                                 [&#x27;index&#x27;, &#x27;pctsomecol18_24&#x27;]),\n",
       "                                (&#x27;num&#x27;, SimpleImputer(),\n",
       "                                 [&#x27;avganncount&#x27;, &#x27;avgdeathsperyear&#x27;,\n",
       "                                  &#x27;incidencerate&#x27;, &#x27;medincome&#x27;, &#x27;popest2015&#x27;,\n",
       "                                  &#x27;povertypercent&#x27;, &#x27;studypercap&#x27;, &#x27;medianage&#x27;,\n",
       "                                  &#x27;medianagemale&#x27;, &#x27;medianagefemale&#x27;,\n",
       "                                  &#x27;percentmarr...\n",
       "                                  &#x27;pctblack&#x27;, &#x27;pctasian&#x27;, &#x27;pctotherrace&#x27;,\n",
       "                                  &#x27;pctmarriedhouseholds&#x27;, &#x27;birthrate&#x27;]),\n",
       "                                (&#x27;ord_cat&#x27;,\n",
       "                                 Pipeline(steps=[(&#x27;imputer&#x27;,\n",
       "                                                  SimpleImputer(strategy=&#x27;most_frequent&#x27;)),\n",
       "                                                 (&#x27;ordinal&#x27;,\n",
       "                                                  CustomOrdinalEncoder())]),\n",
       "                                 [&#x27;geography&#x27;]),\n",
       "                                (&#x27;oh_cat&#x27;,\n",
       "                                 Pipeline(steps=[(&#x27;imputer&#x27;,\n",
       "                                                  SimpleImputer(strategy=&#x27;most_frequent&#x27;)),\n",
       "                                                 (&#x27;onehot&#x27;,\n",
       "                                                  OneHotEncoder(handle_unknown=&#x27;ignore&#x27;,\n",
       "                                                                sparse=False))]),\n",
       "                                 [&#x27;binnedinc&#x27;])])</pre></div></div></div><div class=\"sk-parallel\"><div class=\"sk-parallel-item\"><div class=\"sk-item\"><div class=\"sk-label-container\"><div class=\"sk-label sk-toggleable\"><input class=\"sk-toggleable__control sk-hidden--visually\" id=\"sk-estimator-id-16\" type=\"checkbox\" ><label for=\"sk-estimator-id-16\" class=\"sk-toggleable__label sk-toggleable__label-arrow\">drop</label><div class=\"sk-toggleable__content\"><pre>[&#x27;index&#x27;, &#x27;pctsomecol18_24&#x27;]</pre></div></div></div><div class=\"sk-serial\"><div class=\"sk-item\"><div class=\"sk-serial\"><div class=\"sk-item\"><div class=\"sk-estimator sk-toggleable\"><input class=\"sk-toggleable__control sk-hidden--visually\" id=\"sk-estimator-id-17\" type=\"checkbox\" ><label for=\"sk-estimator-id-17\" class=\"sk-toggleable__label sk-toggleable__label-arrow\">ColumnDropperTransformer</label><div class=\"sk-toggleable__content\"><pre>&lt;__main__.ColumnDropperTransformer object at 0x14f8731207c0&gt;</pre></div></div></div></div></div></div></div></div><div class=\"sk-parallel-item\"><div class=\"sk-item\"><div class=\"sk-label-container\"><div class=\"sk-label sk-toggleable\"><input class=\"sk-toggleable__control sk-hidden--visually\" id=\"sk-estimator-id-18\" type=\"checkbox\" ><label for=\"sk-estimator-id-18\" class=\"sk-toggleable__label sk-toggleable__label-arrow\">num</label><div class=\"sk-toggleable__content\"><pre>[&#x27;avganncount&#x27;, &#x27;avgdeathsperyear&#x27;, &#x27;incidencerate&#x27;, &#x27;medincome&#x27;, &#x27;popest2015&#x27;, &#x27;povertypercent&#x27;, &#x27;studypercap&#x27;, &#x27;medianage&#x27;, &#x27;medianagemale&#x27;, &#x27;medianagefemale&#x27;, &#x27;percentmarried&#x27;, &#x27;pctnohs18_24&#x27;, &#x27;pcths18_24&#x27;, &#x27;pctbachdeg18_24&#x27;, &#x27;pcths25_over&#x27;, &#x27;pctbachdeg25_over&#x27;, &#x27;pctemployed16_over&#x27;, &#x27;pctunemployed16_over&#x27;, &#x27;pctprivatecoverage&#x27;, &#x27;pctprivatecoveragealone&#x27;, &#x27;pctempprivcoverage&#x27;, &#x27;pctpubliccoverage&#x27;, &#x27;pctpubliccoveragealone&#x27;, &#x27;pctwhite&#x27;, &#x27;pctblack&#x27;, &#x27;pctasian&#x27;, &#x27;pctotherrace&#x27;, &#x27;pctmarriedhouseholds&#x27;, &#x27;birthrate&#x27;]</pre></div></div></div><div class=\"sk-serial\"><div class=\"sk-item\"><div class=\"sk-estimator sk-toggleable\"><input class=\"sk-toggleable__control sk-hidden--visually\" id=\"sk-estimator-id-19\" type=\"checkbox\" ><label for=\"sk-estimator-id-19\" class=\"sk-toggleable__label sk-toggleable__label-arrow\">SimpleImputer</label><div class=\"sk-toggleable__content\"><pre>SimpleImputer()</pre></div></div></div></div></div></div><div class=\"sk-parallel-item\"><div class=\"sk-item\"><div class=\"sk-label-container\"><div class=\"sk-label sk-toggleable\"><input class=\"sk-toggleable__control sk-hidden--visually\" id=\"sk-estimator-id-20\" type=\"checkbox\" ><label for=\"sk-estimator-id-20\" class=\"sk-toggleable__label sk-toggleable__label-arrow\">ord_cat</label><div class=\"sk-toggleable__content\"><pre>[&#x27;geography&#x27;]</pre></div></div></div><div class=\"sk-serial\"><div class=\"sk-item\"><div class=\"sk-serial\"><div class=\"sk-item\"><div class=\"sk-estimator sk-toggleable\"><input class=\"sk-toggleable__control sk-hidden--visually\" id=\"sk-estimator-id-21\" type=\"checkbox\" ><label for=\"sk-estimator-id-21\" class=\"sk-toggleable__label sk-toggleable__label-arrow\">SimpleImputer</label><div class=\"sk-toggleable__content\"><pre>SimpleImputer(strategy=&#x27;most_frequent&#x27;)</pre></div></div></div><div class=\"sk-item\"><div class=\"sk-estimator sk-toggleable\"><input class=\"sk-toggleable__control sk-hidden--visually\" id=\"sk-estimator-id-22\" type=\"checkbox\" ><label for=\"sk-estimator-id-22\" class=\"sk-toggleable__label sk-toggleable__label-arrow\">CustomOrdinalEncoder</label><div class=\"sk-toggleable__content\"><pre>CustomOrdinalEncoder()</pre></div></div></div></div></div></div></div></div><div class=\"sk-parallel-item\"><div class=\"sk-item\"><div class=\"sk-label-container\"><div class=\"sk-label sk-toggleable\"><input class=\"sk-toggleable__control sk-hidden--visually\" id=\"sk-estimator-id-23\" type=\"checkbox\" ><label for=\"sk-estimator-id-23\" class=\"sk-toggleable__label sk-toggleable__label-arrow\">oh_cat</label><div class=\"sk-toggleable__content\"><pre>[&#x27;binnedinc&#x27;]</pre></div></div></div><div class=\"sk-serial\"><div class=\"sk-item\"><div class=\"sk-serial\"><div class=\"sk-item\"><div class=\"sk-estimator sk-toggleable\"><input class=\"sk-toggleable__control sk-hidden--visually\" id=\"sk-estimator-id-24\" type=\"checkbox\" ><label for=\"sk-estimator-id-24\" class=\"sk-toggleable__label sk-toggleable__label-arrow\">SimpleImputer</label><div class=\"sk-toggleable__content\"><pre>SimpleImputer(strategy=&#x27;most_frequent&#x27;)</pre></div></div></div><div class=\"sk-item\"><div class=\"sk-estimator sk-toggleable\"><input class=\"sk-toggleable__control sk-hidden--visually\" id=\"sk-estimator-id-25\" type=\"checkbox\" ><label for=\"sk-estimator-id-25\" class=\"sk-toggleable__label sk-toggleable__label-arrow\">OneHotEncoder</label><div class=\"sk-toggleable__content\"><pre>OneHotEncoder(handle_unknown=&#x27;ignore&#x27;, sparse=False)</pre></div></div></div></div></div></div></div></div></div></div><div class=\"sk-item\"><div class=\"sk-estimator sk-toggleable\"><input class=\"sk-toggleable__control sk-hidden--visually\" id=\"sk-estimator-id-26\" type=\"checkbox\" ><label for=\"sk-estimator-id-26\" class=\"sk-toggleable__label sk-toggleable__label-arrow\">RandomForestRegressor</label><div class=\"sk-toggleable__content\"><pre>RandomForestRegressor(random_state=0)</pre></div></div></div></div></div></div></div>"
      ],
      "text/plain": [
       "Pipeline(steps=[('preprocessor',\n",
       "                 ColumnTransformer(transformers=[('drop',\n",
       "                                                  Pipeline(steps=[('ColumnDropper',\n",
       "                                                                   <__main__.ColumnDropperTransformer object at 0x14f8731207c0>)]),\n",
       "                                                  ['index', 'pctsomecol18_24']),\n",
       "                                                 ('num', SimpleImputer(),\n",
       "                                                  ['avganncount',\n",
       "                                                   'avgdeathsperyear',\n",
       "                                                   'incidencerate', 'medincome',\n",
       "                                                   'popest2015',\n",
       "                                                   'povertypercent',\n",
       "                                                   'studypercap', 'medianage',\n",
       "                                                   'medianagemale...\n",
       "                                                   'birthrate']),\n",
       "                                                 ('ord_cat',\n",
       "                                                  Pipeline(steps=[('imputer',\n",
       "                                                                   SimpleImputer(strategy='most_frequent')),\n",
       "                                                                  ('ordinal',\n",
       "                                                                   CustomOrdinalEncoder())]),\n",
       "                                                  ['geography']),\n",
       "                                                 ('oh_cat',\n",
       "                                                  Pipeline(steps=[('imputer',\n",
       "                                                                   SimpleImputer(strategy='most_frequent')),\n",
       "                                                                  ('onehot',\n",
       "                                                                   OneHotEncoder(handle_unknown='ignore',\n",
       "                                                                                 sparse=False))]),\n",
       "                                                  ['binnedinc'])])),\n",
       "                ('model', RandomForestRegressor(random_state=0))])"
      ]
     },
     "execution_count": 155,
     "metadata": {},
     "output_type": "execute_result"
    }
   ],
   "source": [
    "# Preprocessing for df\n",
    "# Note: how to use column dropper in a pipeline was not covered in the course\n",
    "# that why i suggested to read more about Pipelines\n",
    "# Code resource: https://stackoverflow.com/questions/68402691/adding-dropping-column-instance-into-a-pipeline\n",
    "\n",
    "# write a custom Column Dropper Transformer\n",
    "class ColumnDropperTransformer():\n",
    "    def __init__(self,columns):\n",
    "        self.columns=columns\n",
    "\n",
    "    def transform(self,X,y=None):\n",
    "        return X.drop(self.columns,axis=1)\n",
    "\n",
    "    def fit(self, X, y=None):\n",
    "        return self \n",
    "\n",
    "# apply transformer\n",
    "col_drop_trans = Pipeline([\n",
    "    (\"ColumnDropper\", ColumnDropperTransformer(drop_cols_list))\n",
    "])\n",
    "\n",
    "# Preprocessing for numerical data\n",
    "num_trans = SimpleImputer(strategy = \"mean\")\n",
    "\n",
    "# Preprocessing for categorical data\n",
    "# we will add simple imputer in case of missing values\n",
    "# will be added in the future\n",
    "ord_cat_trans = Pipeline(steps=[\n",
    "    ('imputer', SimpleImputer(strategy='most_frequent')),\n",
    "    ('ordinal', CustomOrdinalEncoder())\n",
    "])\n",
    "\n",
    "oh_cat_trans = Pipeline(steps=[\n",
    "    ('imputer', SimpleImputer(strategy='most_frequent')),\n",
    "    ('onehot', OneHotEncoder(handle_unknown='ignore', sparse=False))\n",
    "])\n",
    "\n",
    "\n",
    "# Bundle preprocessing\n",
    "preprocessor = ColumnTransformer(\n",
    "    transformers= [  \n",
    "        ('drop', col_drop_trans, drop_cols_list),\n",
    "        ('num', num_trans, numerical_cols),\n",
    "               \n",
    "        ('ord_cat', ord_cat_trans, col_for_ord_enc), \n",
    "        ('oh_cat', oh_cat_trans, col_for_onehot_enc)\n",
    "    ]\n",
    ")\n",
    "\n",
    "# Bundle preprocessing and modeling code in a pipeline\n",
    "my_pipeline = Pipeline(steps=[('preprocessor', preprocessor),\n",
    "                              ('model', model)\n",
    "                             ])\n",
    "my_pipeline"
   ]
  },
  {
   "cell_type": "code",
   "execution_count": 156,
   "metadata": {},
   "outputs": [
    {
     "name": "stderr",
     "output_type": "stream",
     "text": [
      "/share/pkg.8/python3/3.10.12/install/lib/python3.10/site-packages/sklearn/preprocessing/_encoders.py:972: FutureWarning: `sparse` was renamed to `sparse_output` in version 1.2 and will be removed in 1.4. `sparse_output` is ignored unless you leave `sparse` to its default value.\n",
      "  warnings.warn(\n"
     ]
    },
    {
     "name": "stdout",
     "output_type": "stream",
     "text": [
      "MAE: 13.341644262295086\n"
     ]
    }
   ],
   "source": [
    "# Preprocessing of training data, fit model \n",
    "my_pipeline.fit(X_train, y_train)\n",
    "\n",
    "# Preprocessing of validation data, get predictions\n",
    "preds = my_pipeline.predict(X_test)\n",
    "\n",
    "# Evaluate the model\n",
    "score = mean_absolute_error(y_test, preds)\n",
    "print('MAE:', score)"
   ]
  },
  {
   "cell_type": "code",
   "execution_count": 157,
   "metadata": {},
   "outputs": [
    {
     "name": "stderr",
     "output_type": "stream",
     "text": [
      "/share/pkg.8/python3/3.10.12/install/lib/python3.10/site-packages/sklearn/preprocessing/_encoders.py:972: FutureWarning: `sparse` was renamed to `sparse_output` in version 1.2 and will be removed in 1.4. `sparse_output` is ignored unless you leave `sparse` to its default value.\n",
      "  warnings.warn(\n",
      "/share/pkg.8/python3/3.10.12/install/lib/python3.10/site-packages/sklearn/preprocessing/_encoders.py:972: FutureWarning: `sparse` was renamed to `sparse_output` in version 1.2 and will be removed in 1.4. `sparse_output` is ignored unless you leave `sparse` to its default value.\n",
      "  warnings.warn(\n",
      "/share/pkg.8/python3/3.10.12/install/lib/python3.10/site-packages/sklearn/preprocessing/_encoders.py:972: FutureWarning: `sparse` was renamed to `sparse_output` in version 1.2 and will be removed in 1.4. `sparse_output` is ignored unless you leave `sparse` to its default value.\n",
      "  warnings.warn(\n",
      "/share/pkg.8/python3/3.10.12/install/lib/python3.10/site-packages/sklearn/preprocessing/_encoders.py:972: FutureWarning: `sparse` was renamed to `sparse_output` in version 1.2 and will be removed in 1.4. `sparse_output` is ignored unless you leave `sparse` to its default value.\n",
      "  warnings.warn(\n",
      "/share/pkg.8/python3/3.10.12/install/lib/python3.10/site-packages/sklearn/preprocessing/_encoders.py:972: FutureWarning: `sparse` was renamed to `sparse_output` in version 1.2 and will be removed in 1.4. `sparse_output` is ignored unless you leave `sparse` to its default value.\n",
      "  warnings.warn(\n"
     ]
    },
    {
     "name": "stdout",
     "output_type": "stream",
     "text": [
      "MAE scores: \n",
      " [13.98175082 13.70747213 14.03361905 14.32246798 14.48820197]\n",
      "----------------------------------------------------------------------------------------------------------------------------------------------------------------------------------------------------------------------------------------------------------------------------------------\n",
      "Average MAE score (across experiments):\n",
      "14.106702389835524\n"
     ]
    }
   ],
   "source": [
    "# Multiply by -1 since sklearn calculates *negative* MAE\n",
    "scores = -1 * cross_val_score(my_pipeline,\n",
    "                              X,\n",
    "                              y,\n",
    "                              cv=5,\n",
    "                              scoring='neg_mean_absolute_error')\n",
    "\n",
    "print(\"MAE scores: \\n\", scores)\n",
    "print('-'*280)\n",
    "print(\"Average MAE score (across experiments):\")\n",
    "print(scores.mean())"
   ]
  },
  {
   "cell_type": "code",
   "execution_count": 168,
   "metadata": {},
   "outputs": [
    {
     "name": "stderr",
     "output_type": "stream",
     "text": [
      "/share/pkg.8/python3/3.10.12/install/lib/python3.10/site-packages/sklearn/preprocessing/_encoders.py:972: FutureWarning: `sparse` was renamed to `sparse_output` in version 1.2 and will be removed in 1.4. `sparse_output` is ignored unless you leave `sparse` to its default value.\n",
      "  warnings.warn(\n",
      "/share/pkg.8/python3/3.10.12/install/lib/python3.10/site-packages/sklearn/preprocessing/_encoders.py:972: FutureWarning: `sparse` was renamed to `sparse_output` in version 1.2 and will be removed in 1.4. `sparse_output` is ignored unless you leave `sparse` to its default value.\n",
      "  warnings.warn(\n"
     ]
    },
    {
     "name": "stdout",
     "output_type": "stream",
     "text": [
      "MAE Score is: 11.879904102262904\n"
     ]
    }
   ],
   "source": [
    "my_model = XGBRegressor(n_estimators=1000, learning_rate=0.1)\n",
    "\n",
    "# Let's add the Model to a Pipeline\n",
    "# Bundle preprocessing and modeling code in a pipeline\n",
    "XGB_pipeline = Pipeline(steps=[('preprocessor', preprocessor),\n",
    "                              ('model', my_model)\n",
    "                             ])\n",
    "\n",
    "\n",
    "# Make a copy to avoid changing original data\n",
    "X_valid = X_test.copy()\n",
    "\n",
    "#The problem is that pipelines do not fit eval_set.\n",
    "#So, we need to preprocess X_valid.\n",
    "#To do that the easiest way is using your pipeline without the 'model' step.\n",
    "#Use the following code before fitting our pipeline:\n",
    "\n",
    "# fit transform X_valid copy\n",
    "preprocessor.fit(X_valid)\n",
    "X_valid_transformed = preprocessor.transform(X_valid)\n",
    "\n",
    "#Then fit our pipeline after changing model__eval_set as follows:\n",
    "XGB_pipeline.fit(X_train, y_train, \n",
    "                model__eval_set=[(X_valid_transformed, y_test)],\n",
    "                model__verbose=False)\n",
    "\n",
    "preds = XGB_pipeline.predict(X_valid)\n",
    "\n",
    "print(\"MAE Score is:\", mean_absolute_error(y_test, preds))"
   ]
  }
 ],
 "metadata": {
  "kernelspec": {
   "display_name": "Python 3",
   "language": "python",
   "name": "python3"
  },
  "language_info": {
   "codemirror_mode": {
    "name": "ipython",
    "version": 3
   },
   "file_extension": ".py",
   "mimetype": "text/x-python",
   "name": "python",
   "nbconvert_exporter": "python",
   "pygments_lexer": "ipython3",
   "version": "3.10.12"
  }
 },
 "nbformat": 4,
 "nbformat_minor": 2
}
