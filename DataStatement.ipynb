{
 "cells": [
  {
   "cell_type": "markdown",
   "metadata": {},
   "source": [
    "# Data Statement: Project Summary of Data Sources and Processing\n",
    "\n",
    "## 📄 Data Statement\n",
    "\n",
    "### **Data Sources**\n",
    "\n",
    "This project utilizes publicly available datasets to investigate the relationship between socioeconomic status and cancer mortality across U.S. counties:\n",
    "\n",
    "1. **Cancer Statistics Dataset**  \n",
    "   - **File**: `cancer_reg.csv`  \n",
    "   - **Origin**: Originally sourced via Kaggle, this dataset contains county-level statistics on cancer incidence, mortality, and demographic factors. It includes attributes such as `avgdeathsperyear`, `incidencerate`, `medianage`, and employment/education-related metrics.  \n",
    "   - **Estimated Coverage**: ~3000 U.S. counties.\n",
    "\n",
    "2. **Household Demographics Dataset**  \n",
    "   - **File**: `avg-household-size.csv`  \n",
    "   - **Source**: U.S. Census Bureau (via pre-cleaned CSV). This dataset includes average household size by geography, merged using the `geography` field.\n",
    "\n",
    "3. **Geospatial Shapefile**  \n",
    "   - **Source**: U.S. Census Bureau, Cartographic Boundary Files (2018, 1:20m resolution). Used for plotting state-level cancer mortality heatmaps.  \n",
    "   - **Filename**: `cb_2018_us_state_20m.shp` and associated components.\n",
    "\n",
    "---\n",
    "\n",
    "### **Preprocessing Notes**\n",
    "\n",
    "- Column names were standardized to lowercase with spaces and special characters removed.\n",
    "- Missing data was dropped to ensure clean model input (removing <10% of rows).\n",
    "- Implausible values such as `medianage > 100` were excluded.\n",
    "- Variables were transformed or grouped where necessary (e.g., income quantiles).\n",
    "- Final cleaned dataset saved as `cleaned_data_week1_2.csv`.\n",
    "\n",
    "---\n",
    "\n",
    "### **Analytical Focus**\n",
    "\n",
    "The cleaned and merged dataset was used to explore potential associations between:\n",
    "\n",
    "- Median household income  \n",
    "- Poverty rates  \n",
    "- Education levels  \n",
    "- Employment status  \n",
    "- Public and private health insurance coverage  \n",
    "\n",
    "… and their impact on **average cancer death rates** at the county level.\n",
    "\n",
    "The goal was not to establish causality, but to identify statistically significant trends that could inform deeper policy- or healthcare-level research.\n"
   ]
  }
 ],
 "metadata": {
  "kernelspec": {
   "display_name": "Python 3",
   "language": "python",
   "name": "python3"
  },
  "language_info": {
   "name": "python",
   "version": "3.12.3"
  }
 },
 "nbformat": 4,
 "nbformat_minor": 2
}
